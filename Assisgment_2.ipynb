{
  "nbformat": 4,
  "nbformat_minor": 0,
  "metadata": {
    "colab": {
      "provenance": []
    },
    "kernelspec": {
      "name": "python3",
      "display_name": "Python 3"
    },
    "language_info": {
      "name": "python"
    }
  },
  "cells": [
    {
      "cell_type": "markdown",
      "source": [
        "#Data Types and Structures Questions\n",
        "\n",
        "\n",
        "Q1. What are data structures and why are they important?\n",
        "\n",
        "---> Data structures are ways to organize and store data in a computer so it can be used efficiently. They are important as they helps to store data in a structured way. 2. Makes searching and processing data quicker 3. Allows sorting, filtering, and updating easily 4. Used in apps, websites, games, and more\n",
        "\n",
        "Q2. Explain the difference between mutable and immutable data types with examples?\n",
        "\n",
        "---> Mutable Data Types : It can be changed after creation. It can be modify, add, or remove elements.\n",
        "\n",
        "Example - List , dict, set\n",
        "\n"
      ],
      "metadata": {
        "id": "M5lqwyrwduKw"
      }
    },
    {
      "cell_type": "code",
      "source": [
        "my_list = [1, 2, 3]\n",
        "my_list[0] = 10\n",
        "print(my_list)  # Output: [10, 2, 3]"
      ],
      "metadata": {
        "colab": {
          "base_uri": "https://localhost:8080/"
        },
        "id": "lvUFmsxyeG0X",
        "outputId": "df63c7d0-b98b-49c0-e2c5-7c96dc6f6aeb"
      },
      "execution_count": 1,
      "outputs": [
        {
          "output_type": "stream",
          "name": "stdout",
          "text": [
            "[10, 2, 3]\n"
          ]
        }
      ]
    },
    {
      "cell_type": "markdown",
      "source": [
        "Immutable data types - It can't be changed after the creation. Any change creates a new object. Eg - int, float, str, tuples.\n",
        "\n"
      ],
      "metadata": {
        "id": "rz4RMB5_eMaM"
      }
    },
    {
      "cell_type": "code",
      "source": [
        "my_str = \"hello\"\n",
        "my_str[0] = \"H\"  #  This will give an error because strings are immutable"
      ],
      "metadata": {
        "collapsed": true,
        "colab": {
          "base_uri": "https://localhost:8080/",
          "height": 159
        },
        "id": "KURX0FlMeUG6",
        "outputId": "c19e5f5a-dbfc-4259-b33e-c53ee57a55f5"
      },
      "execution_count": 2,
      "outputs": [
        {
          "output_type": "error",
          "ename": "TypeError",
          "evalue": "'str' object does not support item assignment",
          "traceback": [
            "\u001b[0;31m---------------------------------------------------------------------------\u001b[0m",
            "\u001b[0;31mTypeError\u001b[0m                                 Traceback (most recent call last)",
            "\u001b[0;32m<ipython-input-2-aeba72b71463>\u001b[0m in \u001b[0;36m<cell line: 0>\u001b[0;34m()\u001b[0m\n\u001b[1;32m      1\u001b[0m \u001b[0mmy_str\u001b[0m \u001b[0;34m=\u001b[0m \u001b[0;34m\"hello\"\u001b[0m\u001b[0;34m\u001b[0m\u001b[0;34m\u001b[0m\u001b[0m\n\u001b[0;32m----> 2\u001b[0;31m \u001b[0mmy_str\u001b[0m\u001b[0;34m[\u001b[0m\u001b[0;36m0\u001b[0m\u001b[0;34m]\u001b[0m \u001b[0;34m=\u001b[0m \u001b[0;34m\"H\"\u001b[0m  \u001b[0;31m#  This will give an error because strings are immutable\u001b[0m\u001b[0;34m\u001b[0m\u001b[0;34m\u001b[0m\u001b[0m\n\u001b[0m",
            "\u001b[0;31mTypeError\u001b[0m: 'str' object does not support item assignment"
          ]
        }
      ]
    },
    {
      "cell_type": "markdown",
      "source": [
        "Q3. What are the main differences between lists and tuples in Python?\n",
        "\n",
        "---> List - 1. It can be changeable(mutable). 2. It uses square brackets []. 3. It is slower due to mutability. 4. It has many built in methods. Tuples - 1. It can't be changed after creation (immutable). 2. It uses round brackets(paranthesis) - () 3. It is faster due to immutablity. 4. It has fewer methods."
      ],
      "metadata": {
        "id": "S21GpX-iecLU"
      }
    },
    {
      "cell_type": "markdown",
      "source": [],
      "metadata": {
        "id": "3DE8lMagefHG"
      }
    },
    {
      "cell_type": "code",
      "source": [
        "# List\n",
        "my_list = [1, 2, 3]\n",
        "my_list[0] = 10\n",
        "print(my_list)  # Output: [10, 2, 3]\n",
        "\n",
        "# Tuple\n",
        "my_tuple = (1, 2, 3)\n",
        "# my_tuple[0] = 10   Error: 'tuple' object does not support item assignment\n"
      ],
      "metadata": {
        "colab": {
          "base_uri": "https://localhost:8080/"
        },
        "id": "6i-zmfvOeg62",
        "outputId": "3097eb13-a62c-4cd5-dc89-82796346485f"
      },
      "execution_count": 3,
      "outputs": [
        {
          "output_type": "stream",
          "name": "stdout",
          "text": [
            "[10, 2, 3]\n"
          ]
        }
      ]
    },
    {
      "cell_type": "markdown",
      "source": [
        "Q4. Describe how dictionaries store data?\n",
        "\n",
        "---> In Python, dictionaries store data in the form of key-value pairs. Each key is unique and is used to access its corresponding value."
      ],
      "metadata": {
        "id": "oHQyuPuKekSp"
      }
    },
    {
      "cell_type": "markdown",
      "source": [],
      "metadata": {
        "id": "5Vwn43XhenDO"
      }
    },
    {
      "cell_type": "code",
      "source": [
        "student = {\n",
        "    \"name\": \"Alice\",\n",
        "    \"age\": 20,\n",
        "    \"grade\": \"A\"\n",
        "}\n"
      ],
      "metadata": {
        "id": "Y9q_mCRXeoZZ"
      },
      "execution_count": 4,
      "outputs": []
    },
    {
      "cell_type": "markdown",
      "source": [
        "Q5. Why might you use a set instead of a list in Python?\n",
        "\n",
        "---> We must use set instead of list when :\n",
        "\n",
        "When we wants to store unique values as sets removes duplicates values."
      ],
      "metadata": {
        "id": "neg3nLxIeslX"
      }
    },
    {
      "cell_type": "code",
      "source": [
        "my_list = [1, 2, 2, 3]\n",
        "my_set = set(my_list)\n",
        "print(my_set)  # Output: {1, 2, 3}"
      ],
      "metadata": {
        "colab": {
          "base_uri": "https://localhost:8080/"
        },
        "id": "e2H60ASQevI9",
        "outputId": "e750e59b-6923-4b5d-97a5-413aacc0f3e1"
      },
      "execution_count": 5,
      "outputs": [
        {
          "output_type": "stream",
          "name": "stdout",
          "text": [
            "{1, 2, 3}\n"
          ]
        }
      ]
    },
    {
      "cell_type": "markdown",
      "source": [],
      "metadata": {
        "id": "W8cmxO8Id8nf"
      }
    },
    {
      "cell_type": "markdown",
      "source": [
        "Sets are faster than lists when checking if an item exists.\n",
        "We can perform set operations, such as union, intersection, and difference.\n",
        "Q6. What is a string in Python, and how is it different from a list?\n",
        "\n",
        "---> A string is a sequence of characters enclosed in quotes (single ', double \", or triple ''')."
      ],
      "metadata": {
        "id": "4pEeKqp-e0PP"
      }
    },
    {
      "cell_type": "code",
      "source": [
        "text = \"Hello, world!\"\n",
        "print(text)"
      ],
      "metadata": {
        "colab": {
          "base_uri": "https://localhost:8080/"
        },
        "id": "KwTmppRke2yi",
        "outputId": "96a67cfb-97a2-464c-8c9e-e609b207c890"
      },
      "execution_count": 6,
      "outputs": [
        {
          "output_type": "stream",
          "name": "stdout",
          "text": [
            "Hello, world!\n"
          ]
        }
      ]
    },
    {
      "cell_type": "markdown",
      "source": [
        "The key difference is that strings are immutable, meaning their characters cannot be changed after the string is created, while lists are mutable, so you can add, remove, or modify elements in a list. Additionally, strings only contain characters, whereas lists can hold a mix of data types. Lists are typically used when you need to group and manipulate multiple items, while strings are best suited for handling and processing text."
      ],
      "metadata": {
        "id": "FORHKo7He6nW"
      }
    },
    {
      "cell_type": "code",
      "source": [
        "# String\n",
        "name = \"John\"\n",
        "# name[0] = \"M\"  # Error: strings are immutable\n",
        "\n",
        "# List\n",
        "my_list = [\"J\", \"o\", \"h\", \"n\"]\n",
        "my_list[0] = \"M\"\n",
        "print(my_list)  # Output: ['M', 'o', 'h', 'n']"
      ],
      "metadata": {
        "colab": {
          "base_uri": "https://localhost:8080/"
        },
        "id": "CCSbptpIe9Uz",
        "outputId": "b1dc4ee5-9663-41d5-87b1-ff9093221f2e"
      },
      "execution_count": 7,
      "outputs": [
        {
          "output_type": "stream",
          "name": "stdout",
          "text": [
            "['M', 'o', 'h', 'n']\n"
          ]
        }
      ]
    },
    {
      "cell_type": "markdown",
      "source": [
        "Q7. How do tuples ensure data integrity in Python?\n",
        "\n",
        "---> Tuples ensure data integrity by being immutable, which means once a tuple is created, its values cannot be changed, added to, or removed.\n",
        "\n",
        " tuples cannot be modified, they protect the data from accidental changes.\n",
        "This makes them useful when you want to store constant data or pass fixed information in a program.\n",
        "\n",
        "They also help in writing reliable and bug-free code, since the values remain consistent throughout the program.\n",
        "\n",
        "Tuples help maintain data integrity by making sure that the data stays unchanged, secure, and predictable once defined."
      ],
      "metadata": {
        "id": "S8YMYg5dfBvV"
      }
    },
    {
      "cell_type": "markdown",
      "source": [
        "Q8. What is a hash table, and how does it relate to dictionaries in Python?\n",
        "\n",
        "---> A hash table is a data structure that stores data using a key-value pair system. It uses a process called hashing to convert each key into a unique number (called a hash), which determines where the value is stored in memory."
      ],
      "metadata": {
        "id": "_mBcbxCefE7O"
      }
    },
    {
      "cell_type": "code",
      "source": [
        "student = {\"name\": \"Alice\", \"age\": 20}\n",
        "print(student[\"name\"])  # Output: Alice"
      ],
      "metadata": {
        "colab": {
          "base_uri": "https://localhost:8080/"
        },
        "id": "HL-xe7qafHM1",
        "outputId": "f6e98918-0db7-4fe1-d762-2a7ad55c7c70"
      },
      "execution_count": 8,
      "outputs": [
        {
          "output_type": "stream",
          "name": "stdout",
          "text": [
            "Alice\n"
          ]
        }
      ]
    },
    {
      "cell_type": "markdown",
      "source": [
        "Here, \"name\" is hashed to find where \"Alice\" is stored. This makes lookup very fast, even with large amounts of data.\n",
        "\n",
        "Q9. Can lists contain different data types in Python?\n",
        "\n",
        "---> Yes, Python lists are heterogeneous, meaning they can hold multiple data types together. This makes them very powerful for storing mixed data in one place."
      ],
      "metadata": {
        "id": "TizF-FbqfKJo"
      }
    },
    {
      "cell_type": "code",
      "source": [
        "my_list = [10, \"hello\", 3.14, True, [1, 2, 3]]\n",
        "print(my_list)"
      ],
      "metadata": {
        "colab": {
          "base_uri": "https://localhost:8080/"
        },
        "id": "DHI0UKWqfMYG",
        "outputId": "833d10df-9ab6-4b07-b3ef-dd30a380844b"
      },
      "execution_count": 9,
      "outputs": [
        {
          "output_type": "stream",
          "name": "stdout",
          "text": [
            "[10, 'hello', 3.14, True, [1, 2, 3]]\n"
          ]
        }
      ]
    },
    {
      "cell_type": "markdown",
      "source": [
        "Q10. Explain why strings are immutable in Python?\n",
        "\n",
        "---> Strings are immutable in Python to make programs faster, safer, and more predictable, especially when strings are used in many places or as keys in data structures.\n",
        "\n",
        "They are immutable because :\n",
        "\n",
        "Performance and Memory Efficiency\n",
        "\n",
        "Since strings are used a lot in programs, making them immutable helps save memory and speed up operations like comparisons and caching.\n",
        "\n",
        "Safety and Reliability\n",
        "\n",
        "Immutability ensures that when a string is shared across different parts of a program, it won’t be accidentally changed."
      ],
      "metadata": {
        "id": "M-eJZ8w4fRBP"
      }
    },
    {
      "cell_type": "markdown",
      "source": [
        "Hashing Support Immutable objects like strings can be hashed, which is necessary for using them as keys in dictionaries or sets.\n",
        "\n",
        "Q11. What advantages do dictionaries offer over lists for certain tasks?\n",
        "\n",
        "---> Dictionaries in Python are more suitable than lists when you need to store data using key-value pairs, and when you want to access data quickly using meaningful identifiers (keys) instead of just positions.\n",
        "\n",
        "Key Advantages of Dictionaries over Lists: Fast Data Lookup\n",
        "\n",
        "Dictionaries allow instant access to values using keys, while lists need to search by index or value.\n",
        "\n",
        "Meaningful Access\n",
        "\n",
        "With dictionaries, you can use descriptive keys (like \"name\" or \"age\"), making your code more readable and self-explanatory.\n",
        "\n",
        "Unique Keys Ensure Clean Data\n",
        "\n",
        "Dictionaries do not allow duplicate keys, which helps avoid confusion or accidental overwriting.\n",
        "\n",
        "Better for Structured or Mapped Data\n",
        "\n",
        "Dictionaries are great for representing data like a record, database row, or JSON object."
      ],
      "metadata": {
        "id": "lZEGV6ZRfUFW"
      }
    },
    {
      "cell_type": "code",
      "source": [
        "# Using a list\n",
        "person_list = [\"Alice\", 25, \"Engineer\"]\n",
        "# You need to remember that index 1 means age\n",
        "\n",
        "# Using a dictionary\n",
        "person_dict = {\"name\": \"Alice\", \"age\": 25, \"job\": \"Engineer\"}\n",
        "# You can access by name: person_dict[\"age\"]\n"
      ],
      "metadata": {
        "id": "xZY08HjXfXF1"
      },
      "execution_count": 14,
      "outputs": []
    },
    {
      "cell_type": "markdown",
      "source": [
        "Q12 Describe a scenario where using a tuple would be preferable over a list?\n",
        "\n",
        "---> Use a tuple when you want to store a fixed collection of values that should not change throughout the program — in other words, when the data is constant and read-only.\n",
        "\n",
        "Using a tuple helps protect this data from modification, ensuring data integrity.\n",
        "\n",
        "Eg : you're storing the coordinates of a location:"
      ],
      "metadata": {
        "id": "d49VAitUfjgY"
      }
    },
    {
      "cell_type": "code",
      "source": [
        "location = (28.6139, 77.2090)  # Latitude and Longitude of New Delhi"
      ],
      "metadata": {
        "id": "Y3VMSJ2ufpt3"
      },
      "execution_count": 15,
      "outputs": []
    },
    {
      "cell_type": "markdown",
      "source": [
        "The coordinates are fixed and should not be accidentally changed.\n",
        "\n",
        "It tells other programmers: “This data should not change.”\n",
        "\n",
        "It prevents bugs caused by accidental changes.\n",
        "\n",
        "Tuples use less memory and are faster than lists.\n",
        "\n",
        "Q13. How do sets handle duplicate values in Python?\n",
        "\n",
        "---> In Python, sets automatically remove duplicate values. When you create a set, only unique elements are stored — any duplicates are ignored.\n",
        "\n",
        "Sets handle duplicates by not allowing them at all — every item in a set is guaranteed to be unique.\n",
        "\n",
        "Sets are unordered collections of unique items.\n",
        "\n",
        "They are useful when you need to:\n",
        "\n",
        "a) Remove duplicates from a list\n",
        "\n",
        "b) Check for uniqueness"
      ],
      "metadata": {
        "id": "7zhqh8arfxgS"
      }
    },
    {
      "cell_type": "markdown",
      "source": [
        "c) Perform set operations like union, intersection, etc."
      ],
      "metadata": {
        "id": "wFMPMQmGfzxo"
      }
    },
    {
      "cell_type": "code",
      "source": [
        "my_set = {1, 2, 3, 2, 4, 1}\n",
        "print(my_set)"
      ],
      "metadata": {
        "colab": {
          "base_uri": "https://localhost:8080/"
        },
        "id": "Lzn-znjUf6wb",
        "outputId": "4360ef50-84fe-4519-b8b4-e46d496f625c"
      },
      "execution_count": 16,
      "outputs": [
        {
          "output_type": "stream",
          "name": "stdout",
          "text": [
            "{1, 2, 3, 4}\n"
          ]
        }
      ]
    },
    {
      "cell_type": "markdown",
      "source": [
        "Q14. How does the “in” keyword work differently for lists and dictionaries?\n",
        "\n",
        "---> The in keyword is used to check for membership, but it works a bit differently in lists and dictionaries:\n",
        "\n",
        "In Lists: It checks if a value exists in the list."
      ],
      "metadata": {
        "id": "tqIIj3G3f9la"
      }
    },
    {
      "cell_type": "code",
      "source": [
        "fruits = [\"apple\", \"banana\", \"cherry\"]\n",
        "print(\"banana\" in fruits)  # True\n",
        "print(\"grape\" in fruits)   # False\n"
      ],
      "metadata": {
        "colab": {
          "base_uri": "https://localhost:8080/"
        },
        "id": "6oDpU6qyf_zD",
        "outputId": "1b85cdb3-4685-4e05-e141-99eb52b986c1"
      },
      "execution_count": 17,
      "outputs": [
        {
          "output_type": "stream",
          "name": "stdout",
          "text": [
            "True\n",
            "False\n"
          ]
        }
      ]
    },
    {
      "cell_type": "markdown",
      "source": [
        "In Dictionaries: It checks if a key exists in the dictionary — not the value."
      ],
      "metadata": {
        "id": "8hzz09NigCmA"
      }
    },
    {
      "cell_type": "code",
      "source": [
        "person = {\"name\": \"Alice\", \"age\": 25}\n",
        "print(\"name\" in person)   # True (key)\n",
        "print(\"Alice\" in person)  #  False (not a key)\n"
      ],
      "metadata": {
        "colab": {
          "base_uri": "https://localhost:8080/"
        },
        "id": "ZVaza9jzgE7U",
        "outputId": "8898c1b1-56d3-45be-d06e-92cb1c5a4cd8"
      },
      "execution_count": 18,
      "outputs": [
        {
          "output_type": "stream",
          "name": "stdout",
          "text": [
            "True\n",
            "False\n"
          ]
        }
      ]
    },
    {
      "cell_type": "markdown",
      "source": [
        "Q15. Can you modify the elements of a tuple? Explain why or why not?\n",
        "\n",
        "---> No, you cannot modify the elements of a tuple in Python because tuples are immutable. Immutable means once a tuple is created, its content cannot be changed — you can't add, remove, or update elements.\n",
        "\n",
        "This is by design to ensure the data stays constant and secure."
      ],
      "metadata": {
        "id": "dRaX8XNmgHi7"
      }
    },
    {
      "cell_type": "code",
      "source": [
        "my_tuple = (10, 20, 30)\n",
        "# my_tuple[1] = 50  # This will raise an error: 'tuple' object does not support item assignment"
      ],
      "metadata": {
        "id": "ip0Yx7IpgJ_m"
      },
      "execution_count": 20,
      "outputs": []
    },
    {
      "cell_type": "markdown",
      "source": [
        "Q16 What is a nested dictionary, and give an example of its use case?\n",
        "\n",
        "---> A nested dictionary is a dictionary inside another dictionary. It allows you to organize complex, structured data using multiple levels of key-value pairs."
      ],
      "metadata": {
        "id": "ov3jebh3gNpz"
      }
    },
    {
      "cell_type": "code",
      "source": [
        "students = {\n",
        "    \"101\": {\"name\": \"Alice\", \"age\": 20},\n",
        "    \"102\": {\"name\": \"Bob\", \"age\": 22}\n",
        "}\n",
        "\n",
        "print(students[\"101\"][\"name\"])  # Output: Alice"
      ],
      "metadata": {
        "colab": {
          "base_uri": "https://localhost:8080/"
        },
        "id": "Xmn9EeM9gQVK",
        "outputId": "e7870f09-5032-46d4-e93f-fad93f8dcfcd"
      },
      "execution_count": 21,
      "outputs": [
        {
          "output_type": "stream",
          "name": "stdout",
          "text": [
            "Alice\n"
          ]
        }
      ]
    },
    {
      "cell_type": "markdown",
      "source": [
        "A nested dictionary is useful for handling structured data — like representing a table where each row has multiple fields. It's commonly used in databases, APIs, and real-world apps.\n",
        "\n",
        "Q17. Describe the time complexity of accessing elements in a dictionary?\n",
        "\n",
        "---> Dictionaries are one of the most efficient data structures in Python for lookups and data storage when you need fast access using keys.\n",
        "\n",
        "The time complexity for accessing elements in a dictionary is O(1) on average — which means it takes constant time, regardless of the size of the dictionary.\n",
        "\n",
        "Python dictionaries use a hash table internally.\n",
        "\n",
        "Keys are hashed into a unique index, so looking up a value by key doesn't require searching the whole dictionary.\n",
        "\n",
        "Q18. In what situations are lists preferred over dictionaries?\n",
        "\n",
        "---> You should prefer lists over dictionaries when you need to store items in a specific order and don’t need key-based access.\n",
        "\n",
        "Situations where lists are better:"
      ],
      "metadata": {
        "id": "_IXgzuhmgT5E"
      }
    },
    {
      "cell_type": "markdown",
      "source": [
        "Order Matters\n",
        "Lists maintain the insertion order of elements.\n",
        "\n",
        "Useful for tasks like printing items in sequence, looping in order, etc.\n",
        "\n",
        "Simple Collections\n",
        "When you just need a collection of values without labels (keys).\n",
        "\n",
        "E.g., list of numbers, names, or tasks.\n",
        "\n",
        "Index-Based Access\n",
        "If you want to access or update values using positions (indexes).\n",
        "\n",
        "Duplicates are Needed\n",
        "Lists allow duplicate values, unlike sets or dictionary keys."
      ],
      "metadata": {
        "id": "sJQpJ51UgYUz"
      }
    },
    {
      "cell_type": "markdown",
      "source": [
        "Easy Iteration\n",
        "Ideal for looping over items in a straightforward way."
      ],
      "metadata": {
        "id": "ZG392PM9gaaw"
      }
    },
    {
      "cell_type": "code",
      "source": [
        "fruits = [\"apple\", \"banana\", \"cherry\"]\n",
        "print(fruits)\n",
        "\n",
        "fruits[0] = \"mango\"\n",
        "\n",
        "print(fruits)"
      ],
      "metadata": {
        "colab": {
          "base_uri": "https://localhost:8080/"
        },
        "id": "RL5VnGe2gcZX",
        "outputId": "56bf765d-8eba-4f26-fbca-1a9bab7731c5"
      },
      "execution_count": 22,
      "outputs": [
        {
          "output_type": "stream",
          "name": "stdout",
          "text": [
            "['apple', 'banana', 'cherry']\n",
            "['mango', 'banana', 'cherry']\n"
          ]
        }
      ]
    },
    {
      "cell_type": "markdown",
      "source": [
        "Q19. Why are dictionaries considered unordered, and how does that affect data retrieval?\n",
        "\n",
        "---> Retrieving by key is fast (O(1)), and does not depend on the order.\n",
        "\n",
        "You can’t retrieve by position/index, like in a list."
      ],
      "metadata": {
        "id": "GxAgKbTygfGQ"
      }
    },
    {
      "cell_type": "markdown",
      "source": [],
      "metadata": {
        "id": "JmiFz-6ZghGZ"
      }
    },
    {
      "cell_type": "code",
      "source": [
        "person = {\"name\": \"Alice\", \"age\": 25}\n",
        "print(person[\"name\"])   # Access by key\n",
        "# print(person[0])      # Error: Can't access by position\n"
      ],
      "metadata": {
        "colab": {
          "base_uri": "https://localhost:8080/"
        },
        "id": "6C9net-VgiCS",
        "outputId": "dce9593f-cf24-4ca6-8c4e-3fe0fa0be725"
      },
      "execution_count": 23,
      "outputs": [
        {
          "output_type": "stream",
          "name": "stdout",
          "text": [
            "Alice\n"
          ]
        }
      ]
    },
    {
      "cell_type": "markdown",
      "source": [
        "Q20. Explain the difference between a list and a dictionary in terms of data retrieval.\n",
        "\n",
        "---> Use a list when you need to access items by their position (like the 1st, 2nd, etc.).\n",
        "\n",
        "Use a dictionary when you want to access items using a descriptive key, which makes data retrieval faster and clearer."
      ],
      "metadata": {
        "id": "bqc8DBx7gkhr"
      }
    },
    {
      "cell_type": "markdown",
      "source": [],
      "metadata": {
        "id": "vW4UtVcOgmsf"
      }
    },
    {
      "cell_type": "code",
      "source": [
        "# List\n",
        "colors = [\"red\", \"green\", \"blue\"]\n",
        "print(colors[1])  # Output: green (access by index)\n",
        "\n",
        "# Dictionary\n",
        "student = {\"name\": \"Alice\", \"age\": 21}\n",
        "print(student[\"name\"])  # Output: Alice (access by key)\n"
      ],
      "metadata": {
        "colab": {
          "base_uri": "https://localhost:8080/"
        },
        "id": "TJGBFiuvgnuk",
        "outputId": "d3ed89a1-67dd-4841-c8e8-a0a38a05183d"
      },
      "execution_count": 24,
      "outputs": [
        {
          "output_type": "stream",
          "name": "stdout",
          "text": [
            "green\n",
            "Alice\n"
          ]
        }
      ]
    },
    {
      "cell_type": "markdown",
      "source": [
        "#Practical Questions"
      ],
      "metadata": {
        "id": "pNDfls7Pgrpq"
      }
    },
    {
      "cell_type": "markdown",
      "source": [
        "Q1. Write a code to create a string with your name and print it.\n",
        "\n",
        "--->"
      ],
      "metadata": {
        "id": "zE7bejoFg2-O"
      }
    },
    {
      "cell_type": "code",
      "source": [
        "A = \"Govind\"\n",
        "print (A)"
      ],
      "metadata": {
        "colab": {
          "base_uri": "https://localhost:8080/"
        },
        "id": "J8dl1uxzg8rv",
        "outputId": "d3b41e3c-ffe6-41cb-8ffc-af3f7edba649"
      },
      "execution_count": 25,
      "outputs": [
        {
          "output_type": "stream",
          "name": "stdout",
          "text": [
            "Govind\n"
          ]
        }
      ]
    },
    {
      "cell_type": "markdown",
      "source": [
        "Q2. Write a code to find the length of the string \"Hello World\"."
      ],
      "metadata": {
        "id": "ka164xqfhdN3"
      }
    },
    {
      "cell_type": "code",
      "source": [
        "a =  \"Hello World\"\n",
        "print(len(a))\n"
      ],
      "metadata": {
        "colab": {
          "base_uri": "https://localhost:8080/"
        },
        "id": "ZepzHSbBheDS",
        "outputId": "80b05239-334c-46bf-b1f7-6bd8526b00df"
      },
      "execution_count": 28,
      "outputs": [
        {
          "output_type": "stream",
          "name": "stdout",
          "text": [
            "11\n"
          ]
        }
      ]
    },
    {
      "cell_type": "markdown",
      "source": [
        "Q3. Write a code to slice the first 3 characters from the string \"Python Programming\"."
      ],
      "metadata": {
        "id": "rWtvOkIuiJ8i"
      }
    },
    {
      "cell_type": "code",
      "source": [
        "a = \"Python Programming\"\n",
        "print(a[0:3])"
      ],
      "metadata": {
        "colab": {
          "base_uri": "https://localhost:8080/"
        },
        "id": "87wACF7giO4o",
        "outputId": "6f0105a4-1fec-48aa-d028-dc508502417b"
      },
      "execution_count": 29,
      "outputs": [
        {
          "output_type": "stream",
          "name": "stdout",
          "text": [
            "Pyt\n"
          ]
        }
      ]
    },
    {
      "cell_type": "markdown",
      "source": [
        "Q4. Write a code to convert the string \"hello\" to uppercase."
      ],
      "metadata": {
        "id": "noReTeQ6iouM"
      }
    },
    {
      "cell_type": "code",
      "source": [
        "a = \"hello\"\n",
        "print(a.upper())"
      ],
      "metadata": {
        "colab": {
          "base_uri": "https://localhost:8080/"
        },
        "id": "HkwjKUZSiqdy",
        "outputId": "4cc5ab59-5f06-4b9d-c4d7-c7ccb363e65e"
      },
      "execution_count": 30,
      "outputs": [
        {
          "output_type": "stream",
          "name": "stdout",
          "text": [
            "HELLO\n"
          ]
        }
      ]
    },
    {
      "cell_type": "markdown",
      "source": [
        "Q5. Write a code to replace the word \"apple\" with \"orange\" in the string \"I like apple\"."
      ],
      "metadata": {
        "id": "cAsZeS0AjfdR"
      }
    },
    {
      "cell_type": "code",
      "source": [
        "a = \"I like apple\"\n",
        "print(a.replace(\"apple\" , \"orange\"))"
      ],
      "metadata": {
        "colab": {
          "base_uri": "https://localhost:8080/"
        },
        "id": "oL7dM1rEj1S3",
        "outputId": "09b11b67-78d8-4e77-f676-cdd9cde83c35"
      },
      "execution_count": 31,
      "outputs": [
        {
          "output_type": "stream",
          "name": "stdout",
          "text": [
            "I like orange\n"
          ]
        }
      ]
    },
    {
      "cell_type": "markdown",
      "source": [
        "Q6. Write a code to create a list with numbers 1 to 5 and print it."
      ],
      "metadata": {
        "id": "FTAqkDuhkZX7"
      }
    },
    {
      "cell_type": "code",
      "source": [
        "list1 = [1,2,3,4,5]\n",
        "print(list1)"
      ],
      "metadata": {
        "colab": {
          "base_uri": "https://localhost:8080/"
        },
        "id": "ruetbVdIkcA_",
        "outputId": "4a2ebc9d-feea-4836-fa5a-c4cea54e94bf"
      },
      "execution_count": 33,
      "outputs": [
        {
          "output_type": "stream",
          "name": "stdout",
          "text": [
            "[1, 2, 3, 4, 5]\n"
          ]
        }
      ]
    },
    {
      "cell_type": "markdown",
      "source": [
        "Q7. Write a code to append the number 10 to the list [1, 2, 3, 4]."
      ],
      "metadata": {
        "id": "FejmEzuEktNd"
      }
    },
    {
      "cell_type": "code",
      "source": [
        "list1 = [1,2,3,4]\n",
        "list1.append(10)\n",
        "print(list1)\n",
        ""
      ],
      "metadata": {
        "colab": {
          "base_uri": "https://localhost:8080/"
        },
        "id": "VqInt8x3ku9-",
        "outputId": "94e993fa-4132-4a44-d97e-01e9548ab3df"
      },
      "execution_count": 34,
      "outputs": [
        {
          "output_type": "stream",
          "name": "stdout",
          "text": [
            "[1, 2, 3, 4, 10]\n"
          ]
        }
      ]
    },
    {
      "cell_type": "markdown",
      "source": [
        "Q8. Write a code to remove the number 3 from the list [1, 2, 3, 4, 5]."
      ],
      "metadata": {
        "id": "mLAKuMJNkxlo"
      }
    },
    {
      "cell_type": "code",
      "source": [
        "list1 = [1,2,3,4,5]\n",
        "#list1.remove(3)\n",
        "#print(list1)\n",
        "\n",
        "#or\n",
        "list1.pop(2)\n",
        "print(list1)"
      ],
      "metadata": {
        "colab": {
          "base_uri": "https://localhost:8080/"
        },
        "id": "RbltCmwkkz6L",
        "outputId": "2386acfa-90c4-4766-e2b9-d1ee1f9c40dd"
      },
      "execution_count": 35,
      "outputs": [
        {
          "output_type": "stream",
          "name": "stdout",
          "text": [
            "[1, 2, 4, 5]\n"
          ]
        }
      ]
    },
    {
      "cell_type": "markdown",
      "source": [
        "Q9. Write a code to access the second element in the list ['a', 'b', 'c', 'd']"
      ],
      "metadata": {
        "id": "jv9Fpkmzk2Ra"
      }
    },
    {
      "cell_type": "code",
      "source": [
        "list1 = ['a', 'b', 'c','d']\n",
        "print(list1[1])"
      ],
      "metadata": {
        "colab": {
          "base_uri": "https://localhost:8080/"
        },
        "id": "GFZOeHBhk4Sh",
        "outputId": "c0598d64-f956-47d7-f614-ad3f478ffe93"
      },
      "execution_count": 36,
      "outputs": [
        {
          "output_type": "stream",
          "name": "stdout",
          "text": [
            "b\n"
          ]
        }
      ]
    },
    {
      "cell_type": "markdown",
      "source": [
        "Q10. Write a code to reverse the list [10, 20, 30, 40, 50].\n",
        "\n",
        "--->"
      ],
      "metadata": {
        "id": "xtXPInXmk7RA"
      }
    },
    {
      "cell_type": "code",
      "source": [
        "list1 = [10,20,30,40,50]\n",
        "print(list1[::-1])"
      ],
      "metadata": {
        "colab": {
          "base_uri": "https://localhost:8080/"
        },
        "id": "85EpKGwPk-ZR",
        "outputId": "a46b8e6d-ba47-46d3-9b25-25255fcee639"
      },
      "execution_count": 37,
      "outputs": [
        {
          "output_type": "stream",
          "name": "stdout",
          "text": [
            "[50, 40, 30, 20, 10]\n"
          ]
        }
      ]
    },
    {
      "cell_type": "markdown",
      "source": [
        "Q11. Write a code to create a tuple with the elements 100, 200, 300 and print it."
      ],
      "metadata": {
        "id": "SAD90543lA0X"
      }
    },
    {
      "cell_type": "code",
      "source": [
        "t = (100,200,300)\n",
        "print(t)\n",
        ""
      ],
      "metadata": {
        "colab": {
          "base_uri": "https://localhost:8080/"
        },
        "id": "zSPJSymclEEM",
        "outputId": "6f092427-366a-4c4c-c766-d50d657cb9d8"
      },
      "execution_count": 38,
      "outputs": [
        {
          "output_type": "stream",
          "name": "stdout",
          "text": [
            "(100, 200, 300)\n"
          ]
        }
      ]
    },
    {
      "cell_type": "markdown",
      "source": [
        "Q12. Write a code to access the second-to-last element of the tuple ('red', 'green', 'blue', 'yellow')."
      ],
      "metadata": {
        "id": "jyR-YzGOlNES"
      }
    },
    {
      "cell_type": "code",
      "source": [
        "t = ('red', 'green', 'blue', 'yellow')\n",
        "print(t[-2])\n",
        ""
      ],
      "metadata": {
        "colab": {
          "base_uri": "https://localhost:8080/"
        },
        "id": "q6gyukijlW5z",
        "outputId": "eff66751-5fac-4e27-e530-127f8fa6c1c0"
      },
      "execution_count": 39,
      "outputs": [
        {
          "output_type": "stream",
          "name": "stdout",
          "text": [
            "blue\n"
          ]
        }
      ]
    },
    {
      "cell_type": "markdown",
      "source": [
        "Q13. Write a code to find the minimum number in the tuple (10, 20, 5, 15)."
      ],
      "metadata": {
        "id": "LDIlAfvFlchv"
      }
    },
    {
      "cell_type": "code",
      "source": [
        "t = (10,20,5,15)\n",
        "print(min(t))"
      ],
      "metadata": {
        "colab": {
          "base_uri": "https://localhost:8080/"
        },
        "id": "I8DmzsUrleU0",
        "outputId": "e543f79f-4e87-47ec-fce7-d5fecbc5211a"
      },
      "execution_count": 40,
      "outputs": [
        {
          "output_type": "stream",
          "name": "stdout",
          "text": [
            "5\n"
          ]
        }
      ]
    },
    {
      "cell_type": "markdown",
      "source": [
        "Q14. Write a code to find the index of the element \"cat\" in the tuple ('dog', 'cat', 'rabbit').\n",
        "\n",
        "--->"
      ],
      "metadata": {
        "id": "IXTd_AfMlkdR"
      }
    },
    {
      "cell_type": "code",
      "source": [
        "t = ('dog', 'cat','rabbit')\n",
        "print(t.index(\"cat\"))"
      ],
      "metadata": {
        "id": "XAcXSiuClmuw"
      },
      "execution_count": null,
      "outputs": []
    },
    {
      "cell_type": "markdown",
      "source": [
        "Q15. Write a code to create a tuple containing three different fruits and check if \"kiwi\" is in it.\n",
        "\n",
        "--->"
      ],
      "metadata": {
        "id": "V6OrGYDMl4H5"
      }
    },
    {
      "cell_type": "code",
      "source": [
        "t = ('apple', 'kiwi','orange')\n",
        "print(\"kiwi\" in t)"
      ],
      "metadata": {
        "id": "Zc1cYmhol6L4"
      },
      "execution_count": null,
      "outputs": []
    },
    {
      "cell_type": "markdown",
      "source": [
        "Q16. Write a code to create a set with the elements 'a', 'b', 'c' and print it.\n",
        "\n",
        "--->"
      ],
      "metadata": {
        "id": "A0oMksNUl7qd"
      }
    },
    {
      "cell_type": "code",
      "source": [
        "s = {'a','b','c'}\n",
        "print(s)\n"
      ],
      "metadata": {
        "colab": {
          "base_uri": "https://localhost:8080/"
        },
        "id": "3R_6IKoWl-Md",
        "outputId": "8e4759d3-461d-4ba8-b682-7815e266363b"
      },
      "execution_count": 41,
      "outputs": [
        {
          "output_type": "stream",
          "name": "stdout",
          "text": [
            "{'b', 'a', 'c'}\n"
          ]
        }
      ]
    },
    {
      "cell_type": "markdown",
      "source": [
        "Q17. Write a code to clear all elements from the set {1, 2, 3, 4, 5}.\n",
        "\n",
        "--->"
      ],
      "metadata": {
        "id": "0UcNDiUdmBW0"
      }
    },
    {
      "cell_type": "code",
      "source": [
        "s = {1,2,3,4,5}\n",
        "print(s)\n",
        "\n",
        "print(\"All elements cleared!!\",s.clear())"
      ],
      "metadata": {
        "colab": {
          "base_uri": "https://localhost:8080/"
        },
        "id": "tweMML8amDKV",
        "outputId": "0cca48cf-1504-4e9a-f9fe-7d853f53d4bf"
      },
      "execution_count": 42,
      "outputs": [
        {
          "output_type": "stream",
          "name": "stdout",
          "text": [
            "{1, 2, 3, 4, 5}\n",
            "All elements cleared!! None\n"
          ]
        }
      ]
    },
    {
      "cell_type": "markdown",
      "source": [
        "Q18. Write a code to remove the element 4 from the set {1, 2, 3, 4}.\n",
        "\n",
        "--->"
      ],
      "metadata": {
        "id": "U76Vuu0NmGoW"
      }
    },
    {
      "cell_type": "code",
      "source": [
        "s1 = {1,2,3,4}\n",
        "print(s1.remove(4))\n",
        "print(s1)"
      ],
      "metadata": {
        "colab": {
          "base_uri": "https://localhost:8080/"
        },
        "id": "JSv1yrTgmILi",
        "outputId": "e78a824b-27f3-4d11-e4d3-94ad8ae64823"
      },
      "execution_count": 43,
      "outputs": [
        {
          "output_type": "stream",
          "name": "stdout",
          "text": [
            "None\n",
            "{1, 2, 3}\n"
          ]
        }
      ]
    },
    {
      "cell_type": "markdown",
      "source": [
        "Q19. Write a code to find the union of two sets {1, 2, 3} and {3, 4, 5}.\n",
        "\n",
        "--->"
      ],
      "metadata": {
        "id": "ylAHOIS3mKeY"
      }
    },
    {
      "cell_type": "code",
      "source": [
        "s = {1,2,3}\n",
        "r = {3,4,5}\n",
        "print(s.union(r))\n",
        ""
      ],
      "metadata": {
        "colab": {
          "base_uri": "https://localhost:8080/"
        },
        "id": "FySXYypnmNOI",
        "outputId": "881fa8e4-eef4-476d-9576-a723f0772413"
      },
      "execution_count": 44,
      "outputs": [
        {
          "output_type": "stream",
          "name": "stdout",
          "text": [
            "{1, 2, 3, 4, 5}\n"
          ]
        }
      ]
    },
    {
      "cell_type": "markdown",
      "source": [
        "Q20. Write a code to find the intersection of two sets {1, 2, 3} and {2, 3, 4}.\n",
        "\n",
        "--->"
      ],
      "metadata": {
        "id": "i1GtLFVWmPS5"
      }
    },
    {
      "cell_type": "code",
      "source": [
        "s = {1,2,3}\n",
        "r = {2,3,4}\n",
        "print(s.intersection(r))"
      ],
      "metadata": {
        "colab": {
          "base_uri": "https://localhost:8080/"
        },
        "id": "HiuuHccNmRQU",
        "outputId": "6236ef1a-61e9-4a8b-f761-b6db2591abf2"
      },
      "execution_count": 45,
      "outputs": [
        {
          "output_type": "stream",
          "name": "stdout",
          "text": [
            "{2, 3}\n"
          ]
        }
      ]
    },
    {
      "cell_type": "markdown",
      "source": [
        "Q21. Write a code to create a dictionary with the keys \"name\", \"age\", and \"city\", and print it.\n",
        "\n",
        "--->"
      ],
      "metadata": {
        "id": "31y3L9oKmTCh"
      }
    },
    {
      "cell_type": "code",
      "source": [
        "p ={ \"name\" : \"Aarushi\", \"age\": 24, \"city\" : \"Delhi\"}\n",
        "print(p)"
      ],
      "metadata": {
        "colab": {
          "base_uri": "https://localhost:8080/"
        },
        "id": "KxyCi8x7mT5C",
        "outputId": "23b551c3-b333-4e28-8cfa-76f3682cb168"
      },
      "execution_count": 46,
      "outputs": [
        {
          "output_type": "stream",
          "name": "stdout",
          "text": [
            "{'name': 'Aarushi', 'age': 24, 'city': 'Delhi'}\n"
          ]
        }
      ]
    },
    {
      "cell_type": "markdown",
      "source": [
        "Q22. Write a code to add a new key-value pair \"country\": \"USA\" to the dictionary {'name': 'John', 'age': 25}.\n",
        "\n",
        "--->"
      ],
      "metadata": {
        "id": "McEs457HmX5j"
      }
    },
    {
      "cell_type": "code",
      "source": [
        "p = {'name': 'John', 'age': 25}\n",
        "p[\"country\"] = \"USA\"\n",
        "print(p)\n",
        ""
      ],
      "metadata": {
        "colab": {
          "base_uri": "https://localhost:8080/"
        },
        "id": "kUgO97-UmaS9",
        "outputId": "2e0bf71b-98ca-47f9-9b0a-60913024707f"
      },
      "execution_count": 49,
      "outputs": [
        {
          "output_type": "stream",
          "name": "stdout",
          "text": [
            "{'name': 'John', 'age': 25, 'country': 'USA'}\n"
          ]
        }
      ]
    },
    {
      "cell_type": "markdown",
      "source": [
        "Q23. Write a code to access the value associated with the key \"name\" in the dictionary {'name': 'Alice', 'age': 30}.\n",
        "\n",
        "--->"
      ],
      "metadata": {
        "id": "VYxIjfD5m49e"
      }
    },
    {
      "cell_type": "code",
      "source": [
        "p = {'name': 'Alice', 'age': 30}\n",
        "print(p[\"name\"])"
      ],
      "metadata": {
        "colab": {
          "base_uri": "https://localhost:8080/"
        },
        "id": "PGgSrCzKm9oM",
        "outputId": "229f69a3-14ae-4054-9df0-238c3521975f"
      },
      "execution_count": 50,
      "outputs": [
        {
          "output_type": "stream",
          "name": "stdout",
          "text": [
            "Alice\n"
          ]
        }
      ]
    },
    {
      "cell_type": "markdown",
      "source": [
        "Q24. Write a code to remove the key \"age\" from the dictionary {'name': 'Bob', 'age': 22, 'city': 'New York'}.\n",
        "\n",
        "--->"
      ],
      "metadata": {
        "id": "NPvBbmmCnA-f"
      }
    },
    {
      "cell_type": "code",
      "source": [
        "p = {'name': 'Bob', 'age': 22, 'city': 'New York'}\n",
        "p.pop(\"age\")\n",
        "print(p)"
      ],
      "metadata": {
        "colab": {
          "base_uri": "https://localhost:8080/"
        },
        "id": "TEfcP-FTnCxI",
        "outputId": "879dec63-c4db-4696-baed-114d5a3eec61"
      },
      "execution_count": 51,
      "outputs": [
        {
          "output_type": "stream",
          "name": "stdout",
          "text": [
            "{'name': 'Bob', 'city': 'New York'}\n"
          ]
        }
      ]
    },
    {
      "cell_type": "markdown",
      "source": [
        "Q25. Write a code to check if the key \"city\" exists in the dictionary {'name': 'Alice', 'city': 'Paris'}.\n",
        "\n",
        "--->"
      ],
      "metadata": {
        "id": "AZJwRi9LnGjB"
      }
    },
    {
      "cell_type": "code",
      "source": [
        "p = {'name': 'Alice', 'city': 'Paris'}\n",
        "print(\"city\" in p)\n"
      ],
      "metadata": {
        "colab": {
          "base_uri": "https://localhost:8080/"
        },
        "id": "6pXgA8PdnIuA",
        "outputId": "27e2afdf-ed33-4f14-c9ba-c161e71e8c75"
      },
      "execution_count": 52,
      "outputs": [
        {
          "output_type": "stream",
          "name": "stdout",
          "text": [
            "True\n"
          ]
        }
      ]
    },
    {
      "cell_type": "markdown",
      "source": [
        "Q26. Write a code to create a list, a tuple, and a dictionary, and print them all.\n",
        "\n",
        "--->"
      ],
      "metadata": {
        "id": "8b1d5fQQnLOQ"
      }
    },
    {
      "cell_type": "code",
      "source": [
        "list1 = [1,2,3]\n",
        "print(list1)\n",
        "\n",
        "t = (1,2,3)\n",
        "print(t)\n",
        "\n",
        "p = {'name': 'Alice', 'city': 'Paris'}\n",
        "print(p)"
      ],
      "metadata": {
        "colab": {
          "base_uri": "https://localhost:8080/"
        },
        "id": "CZIlxFCznNF_",
        "outputId": "e0492cc1-d65e-44e6-9fb9-88b5f04c4b14"
      },
      "execution_count": 53,
      "outputs": [
        {
          "output_type": "stream",
          "name": "stdout",
          "text": [
            "[1, 2, 3]\n",
            "(1, 2, 3)\n",
            "{'name': 'Alice', 'city': 'Paris'}\n"
          ]
        }
      ]
    },
    {
      "cell_type": "markdown",
      "source": [
        "Q27. Write a code to create a list of 5 random numbers between 1 and 100, sort it in ascending order, and print the result.(replaced)\n",
        "\n",
        "--->"
      ],
      "metadata": {
        "id": "rwb2O48enPQH"
      }
    },
    {
      "cell_type": "code",
      "source": [
        "list1 = [10,3,4,0,5]\n",
        "list1.sort()\n",
        "print(list1)"
      ],
      "metadata": {
        "id": "qomqtJeUnRJp"
      },
      "execution_count": null,
      "outputs": []
    },
    {
      "cell_type": "markdown",
      "source": [
        "Q28. Write a code to create a list with strings and print the element at the third index.\n",
        "\n",
        "--->"
      ],
      "metadata": {
        "id": "VM0lQ2t5nS7S"
      }
    },
    {
      "cell_type": "code",
      "source": [
        "list1 = [\"a\", \"b\",\"c\",\"d\"]\n",
        "print(list1[3])"
      ],
      "metadata": {
        "colab": {
          "base_uri": "https://localhost:8080/"
        },
        "id": "B1bWsHZnnVJe",
        "outputId": "45d84a3f-e700-42d4-a131-2c2080b834ff"
      },
      "execution_count": 54,
      "outputs": [
        {
          "output_type": "stream",
          "name": "stdout",
          "text": [
            "d\n"
          ]
        }
      ]
    },
    {
      "cell_type": "markdown",
      "source": [
        "Q29. Write a code to combine two dictionaries into one and print the result.\n",
        "\n",
        "--->"
      ],
      "metadata": {
        "id": "LF2lzuwLnYvx"
      }
    },
    {
      "cell_type": "code",
      "source": [
        "p = {\"name\" : \"Aarushi\" , \"age\": 24}\n",
        "s = {\"city\" : \"Delhi\" , \"country\" : \"India\"}\n",
        "p.update(s)\n",
        "print(p)"
      ],
      "metadata": {
        "colab": {
          "base_uri": "https://localhost:8080/"
        },
        "id": "KaSgpkXsnat4",
        "outputId": "0861dace-70d1-4638-e6ac-a8a261472628"
      },
      "execution_count": 55,
      "outputs": [
        {
          "output_type": "stream",
          "name": "stdout",
          "text": [
            "{'name': 'Aarushi', 'age': 24, 'city': 'Delhi', 'country': 'India'}\n"
          ]
        }
      ]
    },
    {
      "cell_type": "markdown",
      "source": [
        "Q30. Write a code to convert a list of strings into a set.\n",
        "\n",
        "--->"
      ],
      "metadata": {
        "id": "mMelTsUjndBD"
      }
    },
    {
      "cell_type": "code",
      "source": [
        "list1 = [\"a\", \"b\",\"c\",\"d\"]\n",
        "print(set(list1))"
      ],
      "metadata": {
        "colab": {
          "base_uri": "https://localhost:8080/"
        },
        "id": "rmodpokonfa9",
        "outputId": "71a735b9-7e42-4282-e304-8e7ab46e2d09"
      },
      "execution_count": 56,
      "outputs": [
        {
          "output_type": "stream",
          "name": "stdout",
          "text": [
            "{'b', 'd', 'a', 'c'}\n"
          ]
        }
      ]
    },
    {
      "cell_type": "markdown",
      "source": [],
      "metadata": {
        "id": "AukHWHCDl_Be"
      }
    }
  ]
}